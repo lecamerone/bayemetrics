{
 "cells": [
  {
   "cell_type": "code",
   "execution_count": 51,
   "metadata": {
    "collapsed": true
   },
   "outputs": [],
   "source": [
    "import numpy as np\n",
    "import math\n",
    "from scipy.stats import gamma\n",
    "import matplotlib.pyplot as plt\n",
    "import numpy as np\n",
    "import seaborn as sns\n",
    "sns.set_style(\"darkgrid\")"
   ]
  },
  {
   "cell_type": "code",
   "execution_count": 52,
   "metadata": {
    "collapsed": true
   },
   "outputs": [],
   "source": [
    "#code function\n",
    "def gamma_dist(_k,_sigma, x):\n",
    "    first = (math.gamma(_k))*(_sigma**_k)\n",
    "    second = (x**(_k-1))*np.exp(-(x/_sigma))\n",
    "    ans = second/first\n",
    "    return(ans)"
   ]
  },
  {
   "cell_type": "code",
   "execution_count": 53,
   "metadata": {},
   "outputs": [],
   "source": [
    "#find the maximum y value on the X interval 0 to 10\n",
    "X=np.linspace(0,10,1000)\n",
    "y2=max((gamma_dist(10,0.5,X)))+0.000001\n",
    "#generate x and y values on our grid\n",
    "x_val = np.random.uniform(0,10,10000000)\n",
    "y_val = np.random.uniform(0,y2,10000000)"
   ]
  },
  {
   "cell_type": "code",
   "execution_count": 54,
   "metadata": {},
   "outputs": [],
   "source": [
    "#throw darts at out area of interest and calculate what proportion are below the curve\n",
    "count = []\n",
    "for i in range(len(y_val)):\n",
    "    if y_val[i] < gamma_dist(10,0.5,x_val[i]):\n",
    "        count.append(1)\n",
    "    else:\n",
    "        count.append(0)\n",
    "#multiply our are by the proportion of darts below the curve to find our integral\n",
    "integral = (np.mean(count))*10*y2"
   ]
  },
  {
   "cell_type": "code",
   "execution_count": 55,
   "metadata": {},
   "outputs": [],
   "source": [
    "#code our Monte Carlo Integration function\n",
    "def mc_integrate(func, upper, lower, n):\n",
    "    #find the maximum y value on the X interval 0 to 10\n",
    "    X=np.linspace(lower,upper,1000)\n",
    "    y2=max((func(10,0.5,X)))+0.000001\n",
    "    #generate x and y values on our grid\n",
    "    x_val = np.random.uniform(lower,upper,n)\n",
    "    y_val = np.random.uniform(0,y2,n)\n",
    "    #throw darts at out area of interest and calculate what proportion are below the curve\n",
    "    count = []\n",
    "    for i in range(len(y_val)):\n",
    "        if y_val[i] < func(10,0.5,x_val[i]):\n",
    "            count.append(1)\n",
    "        else:\n",
    "            count.append(0)\n",
    "    #multiply our are by the proportion of darts below the curve to find our integral\n",
    "    integral = (np.mean(count))*(10)*y2\n",
    "    return(integral)"
   ]
  },
  {
   "cell_type": "code",
   "execution_count": 56,
   "metadata": {},
   "outputs": [
    {
     "name": "stdout",
     "output_type": "stream",
     "text": [
      "The true value of the integral is 0.995004587692\n"
     ]
    }
   ],
   "source": [
    "#calculate real value of the integral\n",
    "val = gamma.cdf(10, 10, loc=0, scale=0.5)\n",
    "print(\"The true value of the integral is\", val)"
   ]
  },
  {
   "cell_type": "code",
   "execution_count": 62,
   "metadata": {},
   "outputs": [
    {
     "name": "stdout",
     "output_type": "stream",
     "text": [
      "The monte carlo estimation of the integral with  100 samples is 0.89593771497\n",
      "The error in the monte carlo integration with a sample of 100 is 0.0990668727221\n",
      "The monte carlo estimation of the integral with  1000 samples is 0.927559046086\n",
      "The error in the monte carlo integration with a sample of 1000 is 0.0674455416055\n",
      "The monte carlo estimation of the integral with  10000 samples is 0.989484152856\n",
      "The error in the monte carlo integration with a sample of 10000 is 0.00552043483558\n",
      "The monte carlo estimation of the integral with  100000 samples is 0.99077535721\n",
      "The error in the monte carlo integration with a sample of 100000 is 0.00422923048165\n",
      "The monte carlo estimation of the integral with  1000000 samples is 0.995133830682\n",
      "The error in the monte carlo integration with a sample of 1000000 is -0.00012924299058\n",
      "The monte carlo estimation of the integral with  10000000 samples is 0.994821833549\n",
      "The error in the monte carlo integration with a sample of 10000000 is 0.000182754143104\n"
     ]
    },
    {
     "data": {
      "image/png": "[encoded data removed]",
      "text/plain": [
       "<matplotlib.figure.Figure at 0x107fc6a20>"
      ]
     },
     "metadata": {},
     "output_type": "display_data"
    }
   ],
   "source": [
    "samples = [100,1000,10000,100000,1000000,10000000]    \n",
    "error = []\n",
    "for i in range(len(samples)):    \n",
    "    integral = mc_integrate(gamma_dist, 10, 0, samples[i])\n",
    "    err = val-integral\n",
    "    error.append(err)\n",
    "    print(\"The monte carlo estimation of the integral with \",samples[i], \"samples is\", integral)\n",
    "    print(\"The error in the monte carlo integration with a sample of\",samples[i], \"is\", err)\n",
    "\n",
    "sns.set_style(\"darkgrid\")\n",
    "plt.plot(error)\n",
    "plt.show()"
   ]
  },
  {
   "cell_type": "code",
   "execution_count": null,
   "metadata": {
    "collapsed": true
   },
   "outputs": [],
   "source": []
  }
 ],
 "metadata": {
  "kernelspec": {
   "display_name": "Python 3",
   "language": "python",
   "name": "python3"
  },
  "language_info": {
   "codemirror_mode": {
    "name": "ipython",
    "version": 3
   },
   "file_extension": ".py",
   "mimetype": "text/x-python",
   "name": "python",
   "nbconvert_exporter": "python",
   "pygments_lexer": "ipython3",
   "version": "3.6.1"
  }
 },
 "nbformat": 4,
 "nbformat_minor": 2
}
