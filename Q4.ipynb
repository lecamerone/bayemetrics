{
 "cells": [
  {
   "cell_type": "code",
   "execution_count": 6,
   "metadata": {
    "collapsed": true
   },
   "outputs": [],
   "source": [
    "from scipy.stats import multivariate_normal\n",
    "import numpy as np\n",
    "import matplotlib.pyplot as plt\n",
    "import seaborn as sns\n",
    "%matplotlib inline"
   ]
  },
  {
   "cell_type": "code",
   "execution_count": 7,
   "metadata": {
    "collapsed": true
   },
   "outputs": [],
   "source": [
    "sns.set_context('notebook') # optimise figures for notebook display\n",
    "sns.set_style('ticks') # set default plot style\n",
    "colours = ['#1F77B4', '#FF7F0E', '#2CA02C', '#DB2728', '#9467BD', '#8C564B', '#E377C2','#7F7F7F', '#BCBD22', '#17BECF']\n",
    "crayon = ['#4E79A7','#F28E2C','#E15759','#76B7B2','#59A14F', '#EDC949','#AF7AA1','#FF9DA7','#9C755F','#BAB0AB']\n",
    "sns.set_palette(colours) # set custom color scheme\n",
    "%matplotlib inline\n",
    "plt.rcParams['figure.figsize'] = (9, 6)"
   ]
  },
  {
   "cell_type": "code",
   "execution_count": 3,
   "metadata": {},
   "outputs": [],
   "source": [
    "from scipy.stats import invgamma\n",
    "#inverse gamma parameters\n",
    "u = 0.25\n",
    "sd = 0.4\n",
    "v = sd**2\n",
    "#parameterisation\n",
    "alpha = (u**2)/v + 2\n",
    "beta = u*((u**2)/v + 1)"
   ]
  },
  {
   "cell_type": "code",
   "execution_count": 11,
   "metadata": {},
   "outputs": [],
   "source": [
    "R = invgamma.rvs(alpha, scale = beta, size=1000)"
   ]
  },
  {
   "cell_type": "code",
   "execution_count": 21,
   "metadata": {
    "collapsed": true
   },
   "outputs": [],
   "source": [
    "def generate_pdf(x):\n",
    "    bins = np.linspace(0,2,100)\n",
    "    vals = np.zeros(100)\n",
    "    for i in range(len(x)):\n",
    "        for j in range(len(bins)-1):\n",
    "            if bins[j] <= x[i] < bins[j+1]:\n",
    "                vals[j] = vals[j] + 1\n",
    "    vals = vals/1000\n",
    "    ax = plt.subplot()\n",
    "    t = bins\n",
    "    s = vals\n",
    "    line, = plt.plot(t, s, lw=2)"
   ]
  },
  {
   "cell_type": "code",
   "execution_count": 22,
   "metadata": {},
   "outputs": [
    {
     "data": {
      "image/png": "[encoded data removed]",
      "text/plain": [
       "<matplotlib.figure.Figure at 0x112b8c710>"
      ]
     },
     "metadata": {},
     "output_type": "display_data"
    }
   ],
   "source": [
    "generate_pdf(R)"
   ]
  },
  {
   "cell_type": "code",
   "execution_count": 24,
   "metadata": {},
   "outputs": [
    {
     "name": "stdout",
     "output_type": "stream",
     "text": [
      "The mean of the sanple of 100 draws is  0.281208240919\n",
      "The standard of the sanple of 100 draws is  0.312589235862\n"
     ]
    }
   ],
   "source": [
    "#100 draws\n",
    "R1 = invgamma.rvs(alpha, scale = beta, size=100)\n",
    "print(\"The mean of the sanple of 100 draws is \", np.mean(R1))\n",
    "print(\"The standard of the sanple of 100 draws is \", np.std(R1))"
   ]
  },
  {
   "cell_type": "code",
   "execution_count": 25,
   "metadata": {},
   "outputs": [
    {
     "name": "stdout",
     "output_type": "stream",
     "text": [
      "The mean of the sanple of 1000 draws is  0.232764824254\n",
      "The standard of the sanple of 1000 draws is  0.229977328518\n"
     ]
    }
   ],
   "source": [
    "#1000 draws\n",
    "R1 = invgamma.rvs(alpha, scale = beta, size=1000)\n",
    "print(\"The mean of the sanple of 1000 draws is \", np.mean(R1))\n",
    "print(\"The standard of the sanple of 1000 draws is \", np.std(R1))"
   ]
  },
  {
   "cell_type": "code",
   "execution_count": 26,
   "metadata": {},
   "outputs": [
    {
     "name": "stdout",
     "output_type": "stream",
     "text": [
      "The mean of the sanple of 10000 draws is  0.252602902967\n",
      "The standard of the sanple of 10000 draws is  0.322672991254\n"
     ]
    }
   ],
   "source": [
    "#10000 draws\n",
    "R1 = invgamma.rvs(alpha, scale = beta, size=10000)\n",
    "print(\"The mean of the sanple of 10000 draws is \", np.mean(R1))\n",
    "print(\"The standard of the sanple of 10000 draws is \", np.std(R1))"
   ]
  },
  {
   "cell_type": "code",
   "execution_count": 27,
   "metadata": {},
   "outputs": [
    {
     "name": "stdout",
     "output_type": "stream",
     "text": [
      "The mean of the sanple of 100000 draws is  0.248368143924\n",
      "The standard of the sanple of 100000 draws is  0.383334551705\n"
     ]
    }
   ],
   "source": [
    "#100000 draws\n",
    "R1 = invgamma.rvs(alpha, scale = beta, size=100000)\n",
    "print(\"The mean of the sanple of 100000 draws is \", np.mean(R1))\n",
    "print(\"The standard of the sanple of 100000 draws is \", np.std(R1))"
   ]
  },
  {
   "cell_type": "code",
   "execution_count": 28,
   "metadata": {},
   "outputs": [
    {
     "name": "stdout",
     "output_type": "stream",
     "text": [
      "The mean of the sanple of 1000000 draws is  0.249754398505\n",
      "The standard of the sanple of 1000000 draws is  0.358098483199\n"
     ]
    }
   ],
   "source": [
    "#1000000 draws\n",
    "R1 = invgamma.rvs(alpha, scale = beta, size=1000000)\n",
    "print(\"The mean of the sanple of 1000000 draws is \", np.mean(R1))\n",
    "print(\"The standard of the sanple of 1000000 draws is \", np.std(R1))"
   ]
  },
  {
   "cell_type": "code",
   "execution_count": 29,
   "metadata": {},
   "outputs": [
    {
     "name": "stdout",
     "output_type": "stream",
     "text": [
      "The mean of the sanple of 10000000 draws is  0.250167219822\n",
      "The standard of the sanple of 10000000 draws is  0.38618892788\n"
     ]
    }
   ],
   "source": [
    "#10000000 draws\n",
    "R1 = invgamma.rvs(alpha, scale = beta, size=10000000)\n",
    "print(\"The mean of the sanple of 10000000 draws is \", np.mean(R1))\n",
    "print(\"The standard of the sanple of 10000000 draws is \", np.std(R1))"
   ]
  },
  {
   "cell_type": "code",
   "execution_count": 38,
   "metadata": {},
   "outputs": [
    {
     "name": "stdout",
     "output_type": "stream",
     "text": [
      "The mean of the sanple of 100000000 draws is  0.249994270152\n",
      "The standard of the sanple of 100000000 draws is  0.381527994424\n"
     ]
    }
   ],
   "source": [
    "#100000000 draws\n",
    "R1 = invgamma.rvs(alpha, scale = beta, size=1000000000)\n",
    "print(\"The mean of the sanple of 100000000 draws is \", np.mean(R1))\n",
    "print(\"The standard of the sanple of 100000000 draws is \", np.std(R1))"
   ]
  },
  {
   "cell_type": "code",
   "execution_count": null,
   "metadata": {},
   "outputs": [],
   "source": []
  },
  {
   "cell_type": "code",
   "execution_count": 33,
   "metadata": {},
   "outputs": [
    {
     "data": {
      "text/plain": [
       "0.25"
      ]
     },
     "execution_count": 33,
     "metadata": {},
     "output_type": "execute_result"
    }
   ],
   "source": []
  },
  {
   "cell_type": "code",
   "execution_count": 34,
   "metadata": {
    "collapsed": true
   },
   "outputs": [],
   "source": [
    "from decimal import getcontext, Decimal\n",
    "getcontext().prec = 3\n",
    "mean = Decimal(mean)"
   ]
  },
  {
   "cell_type": "code",
   "execution_count": 35,
   "metadata": {},
   "outputs": [
    {
     "data": {
      "text/plain": [
       "Decimal('0.25')"
      ]
     },
     "execution_count": 35,
     "metadata": {},
     "output_type": "execute_result"
    }
   ],
   "source": []
  },
  {
   "cell_type": "code",
   "execution_count": 36,
   "metadata": {},
   "outputs": [
    {
     "name": "stdout",
     "output_type": "stream",
     "text": [
      "0.25\n"
     ]
    }
   ],
   "source": []
  },
  {
   "cell_type": "code",
   "execution_count": null,
   "metadata": {
    "collapsed": true
   },
   "outputs": [],
   "source": []
  }
 ],
 "metadata": {
  "kernelspec": {
   "display_name": "Python 3",
   "language": "python",
   "name": "python3"
  },
  "language_info": {
   "codemirror_mode": {
    "name": "ipython",
    "version": 3
   },
   "file_extension": ".py",
   "mimetype": "text/x-python",
   "name": "python",
   "nbconvert_exporter": "python",
   "pygments_lexer": "ipython3",
   "version": "3.6.1"
  }
 },
 "nbformat": 4,
 "nbformat_minor": 2
}
