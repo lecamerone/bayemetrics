{
 "cells": [
  {
   "cell_type": "code",
   "execution_count": 15,
   "metadata": {},
   "outputs": [],
   "source": [
    "from scipy.stats import wishart, chi2\n",
    "import numpy as np\n",
    "import seaborn as sns\n",
    "%matplotlib inline"
   ]
  },
  {
   "cell_type": "code",
   "execution_count": 16,
   "metadata": {},
   "outputs": [],
   "source": [
    "cov_matrix = np.matrix([[0.6113,0.3416,0.3854],[0.3416,0.4955,0.1194],[0.3854,0.1194,0.3048]])\n",
    "DF = 8"
   ]
  },
  {
   "cell_type": "code",
   "execution_count": 17,
   "metadata": {
    "collapsed": true
   },
   "outputs": [],
   "source": [
    "sample = wishart.rvs(DF, cov_matrix, size=1000)"
   ]
  },
  {
   "cell_type": "code",
   "execution_count": 18,
   "metadata": {},
   "outputs": [
    {
     "name": "stdout",
     "output_type": "stream",
     "text": [
      "The mean of the first marginal is  3.53235693526\n",
      "The standard deviation of the first marginal is  2.26475384445\n",
      "The mean of the second marginal is  2.50941088926\n",
      "The standard deviation of the second marginal is  2.11110010716\n",
      "The mean of the third marginal is  2.15021688646\n",
      "The standard deviation of the third marginal is  1.64563470424\n"
     ]
    }
   ],
   "source": [
    "print(\"The mean of the first marginal is \", np.mean(sample[:,0]))\n",
    "print(\"The standard deviation of the first marginal is \", np.std(sample[:,0]))\n",
    "print(\"The mean of the second marginal is \", np.mean(sample[:,1]))\n",
    "print(\"The standard deviation of the second marginal is \", np.std(sample[:,1]))\n",
    "print(\"The mean of the third marginal is \", np.mean(sample[:,2]))\n",
    "print(\"The standard deviation of the third marginal is \", np.std(sample[:,2]))"
   ]
  }
 ],
 "metadata": {
  "kernelspec": {
   "display_name": "Python 3",
   "language": "python",
   "name": "python3"
  },
  "language_info": {
   "codemirror_mode": {
    "name": "ipython",
    "version": 3
   },
   "file_extension": ".py",
   "mimetype": "text/x-python",
   "name": "python",
   "nbconvert_exporter": "python",
   "pygments_lexer": "ipython3",
   "version": "3.6.1"
  }
 },
 "nbformat": 4,
 "nbformat_minor": 2
}
